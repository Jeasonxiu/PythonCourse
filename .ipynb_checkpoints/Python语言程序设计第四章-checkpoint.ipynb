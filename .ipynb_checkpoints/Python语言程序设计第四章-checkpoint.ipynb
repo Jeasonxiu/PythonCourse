{
 "cells": [
  {
   "cell_type": "markdown",
   "metadata": {
    "toc": "true"
   },
   "source": [
    "# Table of Contents\n",
    " <p><div class=\"lev1 toc-item\"><a href=\"#第四章-程序的控制结构\" data-toc-modified-id=\"第四章-程序的控制结构-1\"><span class=\"toc-item-num\">1&nbsp;&nbsp;</span>第四章 程序的控制结构</a></div><div class=\"lev2 toc-item\"><a href=\"#程序的基本结构\" data-toc-modified-id=\"程序的基本结构-11\"><span class=\"toc-item-num\">1.1&nbsp;&nbsp;</span>程序的基本结构</a></div><div class=\"lev2 toc-item\"><a href=\"#微实例\" data-toc-modified-id=\"微实例-12\"><span class=\"toc-item-num\">1.2&nbsp;&nbsp;</span>微实例</a></div>"
   ]
  },
  {
   "attachments": {},
   "cell_type": "markdown",
   "metadata": {},
   "source": [
    "# 第四章 程序的控制结构\n",
    "## 程序的基本结构\n",
    "程序由三种基本结构组成：  \n",
    "- 顺序结构  \n",
    "- 分支结构  \n",
    "- 循环结构  \n",
    "这些基本结构都有一个入口和一个出口。任何程序都由这三种基本结构组合而成  "
   ]
  },
  {
   "cell_type": "markdown",
   "metadata": {},
   "source": [
    "## 微实例\n",
    "1. 计算圆的面积和周长\n",
    "2. 计算绝对值\n",
    "3. 整数累加"
   ]
  },
  {
   "cell_type": "code",
   "execution_count": null,
   "metadata": {
    "collapsed": true
   },
   "outputs": [],
   "source": []
  }
 ],
 "metadata": {
  "hide_input": false,
  "kernelspec": {
   "display_name": "Python 3",
   "language": "python",
   "name": "python3"
  },
  "language_info": {
   "codemirror_mode": {
    "name": "ipython",
    "version": 3
   },
   "file_extension": ".py",
   "mimetype": "text/x-python",
   "name": "python",
   "nbconvert_exporter": "python",
   "pygments_lexer": "ipython3",
   "version": "3.6.1"
  },
  "toc": {
   "colors": {
    "hover_highlight": "#DAA520",
    "navigate_num": "#000000",
    "navigate_text": "#333333",
    "running_highlight": "#FF0000",
    "selected_highlight": "#FFD700",
    "sidebar_border": "#EEEEEE",
    "wrapper_background": "#FFFFFF"
   },
   "moveMenuLeft": true,
   "nav_menu": {
    "height": "66px",
    "width": "252px"
   },
   "navigate_menu": true,
   "number_sections": false,
   "sideBar": true,
   "threshold": 4,
   "toc_cell": true,
   "toc_section_display": "block",
   "toc_window_display": true,
   "widenNotebook": false
  }
 },
 "nbformat": 4,
 "nbformat_minor": 2
}
