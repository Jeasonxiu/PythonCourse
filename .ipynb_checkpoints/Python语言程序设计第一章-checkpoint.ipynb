{
 "cells": [
  {
   "cell_type": "markdown",
   "metadata": {},
   "source": [
    "# 第1章 程序设计基本方法\n",
    "## 计算机的概念（略）\n",
    "## 程序设计语言（简要介绍流行语言和发展趋势）\n",
    "## Python语言概述\n",
    "### Python语言的诞生\n",
    "Guido van Rossum，Python语言之父，Python名字的由来\n",
    "![](guido.png)"
   ]
  },
  {
   "cell_type": "markdown",
   "metadata": {},
   "source": [
    "### 编写Hello程序\n",
    "使用Python语言编写的Hello程序只有一行代码                                "
   ]
  },
  {
   "cell_type": "code",
   "execution_count": 2,
   "metadata": {},
   "outputs": [
    {
     "name": "stdout",
     "output_type": "stream",
     "text": [
      "Hello World\n"
     ]
    }
   ],
   "source": [
    "print(\"Hello World\")"
   ]
  },
  {
   "cell_type": "markdown",
   "metadata": {},
   "source": [
    "### 下面是C语言的Hello world程序，比较一下：\n",
    "#include <stdio.h>  \n",
    "int main(void)  \n",
    "{  \n",
    "   printf(\"Hello World\\n\");  \n",
    "   return 0;  \n",
    "}  "
   ]
  },
  {
   "cell_type": "markdown",
   "metadata": {},
   "source": [
    "### Python语言的优势\n",
    "> 脚本语言 + 语句执行"
   ]
  },
  {
   "cell_type": "code",
   "execution_count": 5,
   "metadata": {},
   "outputs": [
    {
     "name": "stdout",
     "output_type": "stream",
     "text": [
      "Hello World!大家好!\n"
     ]
    }
   ],
   "source": [
    "#例1\n",
    "print(\"Hello World!大家好!\")"
   ]
  },
  {
   "cell_type": "code",
   "execution_count": 6,
   "metadata": {},
   "outputs": [
    {
     "name": "stdout",
     "output_type": "stream",
     "text": [
      "9999800001\n"
     ]
    }
   ],
   "source": [
    "#例2\n",
    "sum = 99999 * 99999\n",
    "print(sum)"
   ]
  },
  {
   "cell_type": "code",
   "execution_count": 7,
   "metadata": {},
   "outputs": [
    {
     "name": "stdout",
     "output_type": "stream",
     "text": [
      "Apr\n"
     ]
    }
   ],
   "source": [
    "#例3\n",
    "months=\"JanFebMarAprMayJunJulAugSepOctNovDec\" \n",
    "n = 4\n",
    "monthAbbrev = months[(n-1)*3:(n-1)*3+3]\n",
    "print(monthAbbrev)"
   ]
  },
  {
   "cell_type": "markdown",
   "metadata": {},
   "source": [
    "> 简洁 + 强制可读性"
   ]
  },
  {
   "cell_type": "code",
   "execution_count": 8,
   "metadata": {},
   "outputs": [
    {
     "name": "stdout",
     "output_type": "stream",
     "text": [
      "4.5\n"
     ]
    }
   ],
   "source": [
    "#例4\n",
    "def mean(numbers):\n",
    "   s = 0.0\n",
    "   for num in numbers:\n",
    "      s = s + num\n",
    "   return s / len(numbers)\n",
    "nums = [0,1,2,3,4,5,6,7,8,9]\n",
    "print(mean(nums))"
   ]
  },
  {
   "cell_type": "markdown",
   "metadata": {},
   "source": [
    "> 跨平台 + 开源：目前有近10万个开源库，覆盖各类计算问题"
   ]
  },
  {
   "cell_type": "code",
   "execution_count": 9,
   "metadata": {},
   "outputs": [
    {
     "name": "stdout",
     "output_type": "stream",
     "text": [
      "3.5079923904279164\n"
     ]
    }
   ],
   "source": [
    "#例5\n",
    "from random import random\n",
    "rnd = random()*10\n",
    "print(rnd)"
   ]
  },
  {
   "cell_type": "markdown",
   "metadata": {},
   "source": [
    "### Python语言特点\n",
    "- Python语言是通用语言  \n",
    "- Python语言是脚本语言  \n",
    "- Python语言是开源语言  \n",
    "- Python语言是跨平台语言  \n",
    "- Python语言是多模型语言  \n"
   ]
  },
  {
   "cell_type": "markdown",
   "metadata": {},
   "source": [
    "## Python开发环境配置\n",
    "详见课程环境配置的文档"
   ]
  },
  {
   "cell_type": "markdown",
   "metadata": {},
   "source": [
    "## 程序的基本编写方法（IPO）\n",
    "- 输入数据  \n",
    "- 处理数据  \n",
    "- 输出数据  \n"
   ]
  },
  {
   "cell_type": "markdown",
   "metadata": {},
   "source": [
    "### 微实例1.1圆面积的计算\n",
    "> 输入：圆半径raduis  \n",
    "> 处理：计算圆面积area = π \\* radius \\* radius （此处，π取3.1415）  \n",
    "> 输出：圆面积area   "
   ]
  },
  {
   "cell_type": "code",
   "execution_count": 1,
   "metadata": {},
   "outputs": [
    {
     "name": "stdout",
     "output_type": "stream",
     "text": [
      "1963.4375000000002\n",
      "1963.44\n"
     ]
    }
   ],
   "source": [
    "#计算圆面积\n",
    "radius = 25\n",
    "area = 3.1415 * radius * radius\n",
    "print(area)\n",
    "print(\"{:.2f}\".format(area))"
   ]
  },
  {
   "cell_type": "markdown",
   "metadata": {},
   "source": [
    "### 微实例1.2 简单的人名对话\n",
    "将用户输入的人名做不同处理（字符串列表，类似数组）"
   ]
  },
  {
   "cell_type": "code",
   "execution_count": 2,
   "metadata": {},
   "outputs": [
    {
     "name": "stdout",
     "output_type": "stream",
     "text": [
      "郭靖同学，学好Python，前途无量！\n",
      "郭大侠，学好Python，前途无量！\n",
      "靖哥哥，学好Python，前途无量！\n"
     ]
    }
   ],
   "source": [
    "name = input(\"输入姓名：\")\n",
    "print(\"{}同学，学好Python，前途无量！\".format(name))\n",
    "print(\"{}大侠，学好Python，前途无量！\".format(name[0]))\n",
    "print(\"{}哥哥，学好Python，前途无量！\".format(name[1:]))"
   ]
  },
  {
   "cell_type": "markdown",
   "metadata": {},
   "source": [
    "### 微实例1.3 斐波拉契数列的计算\n",
    "根据斐波拉契数列的定义，输出不大于1000的序列元素"
   ]
  },
  {
   "cell_type": "code",
   "execution_count": 6,
   "metadata": {},
   "outputs": [
    {
     "name": "stdout",
     "output_type": "stream",
     "text": [
      "0,1,1,2,3,5,8,13,21,34,55,89,144,233,377,610,987,"
     ]
    }
   ],
   "source": [
    "a,b = 0,1\n",
    "while a < 1000:\n",
    "    print(a,end=',')\n",
    "    a,b = b,a+b"
   ]
  },
  {
   "cell_type": "markdown",
   "metadata": {},
   "source": [
    "### 微实例1.4 同切圆的绘制\n",
    "绘制4个不同半径的同切圆，利用turtle库"
   ]
  },
  {
   "cell_type": "code",
   "execution_count": 9,
   "metadata": {},
   "outputs": [],
   "source": [
    "import turtle\n",
    "turtle.pensize(2)\n",
    "turtle.circle(10)\n",
    "turtle.circle(40)\n",
    "turtle.circle(80)\n",
    "turtle.circle(160)"
   ]
  },
  {
   "cell_type": "markdown",
   "metadata": {},
   "source": [
    "### 微实例1.5 日期和时间的输出\n",
    "输出当前的日期和时间"
   ]
  },
  {
   "cell_type": "code",
   "execution_count": 2,
   "metadata": {},
   "outputs": [
    {
     "name": "stdout",
     "output_type": "stream",
     "text": [
      "2017-06-03 10:52:12.726116\n",
      "06/03/17\n",
      "10:52:12\n"
     ]
    }
   ],
   "source": [
    "from datetime import datetime\n",
    "now = datetime.now()\n",
    "print(now)\n",
    "print(now.strftime(\"%x\"))\n",
    "print(now.strftime(\"%X\"))"
   ]
  },
  {
   "cell_type": "markdown",
   "metadata": {},
   "source": [
    "## Python语言版本更迭\n",
    "> Python 2.x版本  \n",
    "> Python 3.x版本"
   ]
  },
  {
   "cell_type": "markdown",
   "metadata": {},
   "source": [
    "## 程序练习题\n",
    "本章还未开始Python语言语法的介绍，可依据以前学过的编程语言的知识练习编程实例，熟悉编程环境"
   ]
  },
  {
   "cell_type": "code",
   "execution_count": 3,
   "metadata": {},
   "outputs": [
    {
     "name": "stdout",
     "output_type": "stream",
     "text": [
      "世界这么大，张三想去葡萄牙看看。\n"
     ]
    }
   ],
   "source": [
    "#习题1 字符串拼接，用户输入两个字符串\n",
    "str1 = input(\"请输入一个人的名字：\")\n",
    "str2 = input(\"请输入一个国家的名字：\")\n",
    "print(\"世界这么大，{}想去{}看看。\".format(str1,str2))"
   ]
  },
  {
   "cell_type": "code",
   "execution_count": 4,
   "metadata": {},
   "outputs": [],
   "source": [
    "#习题2 输入一个数N，求1到N相加后的结果\n"
   ]
  },
  {
   "cell_type": "code",
   "execution_count": 5,
   "metadata": {},
   "outputs": [],
   "source": [
    "#习题3 健康食谱的输出，列出5种食材，输出可能的组合\n"
   ]
  },
  {
   "cell_type": "code",
   "execution_count": null,
   "metadata": {},
   "outputs": [],
   "source": []
  }
 ],
 "metadata": {
  "kernelspec": {
   "display_name": "Python 3",
   "language": "python",
   "name": "python3"
  },
  "language_info": {
   "codemirror_mode": {
    "name": "ipython",
    "version": 3
   },
   "file_extension": ".py",
   "mimetype": "text/x-python",
   "name": "python",
   "nbconvert_exporter": "python",
   "pygments_lexer": "ipython3",
   "version": "3.6.0"
  }
 },
 "nbformat": 4,
 "nbformat_minor": 2
}
