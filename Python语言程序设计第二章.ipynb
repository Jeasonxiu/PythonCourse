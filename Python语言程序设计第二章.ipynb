{
 "cells": [
  {
   "cell_type": "markdown",
   "metadata": {},
   "source": [
    "# 第2章 Python程序实例解析\n",
    "## 温度转换程序实例\n",
    "温度刻画存在不同体系，摄氏度以1标准大气压下水的结冰点为0度，沸点为100度，将温度进行等分刻画。华氏度以1标准大气压下水的结冰点为32度，沸点为212度，将温度进行等分刻画。  \n",
    "问题：如何利用Python程序进行摄氏度和华氏度之间的转换\n"
   ]
  },
  {
   "cell_type": "markdown",
   "metadata": {},
   "source": [
    "- 输入：华氏或者摄氏温度值、温度标识  \n",
    "- 处理：温度转化算法  \n",
    "- 输出：华氏或者摄氏温度值、温度标识  \n",
    "> F表示华氏度，82F表示华氏82度  \n",
    "> C表示摄氏度，28C表示摄氏28度  \n",
    "\n",
    "根据华氏和摄氏温度定义，转换公式如下：\n",
    "          C = ( F – 32 ) / 1.8  \n",
    "          F = C * 1.8 + 32  \n",
    "           其中，C表示摄氏温度，F表示华氏温度\n"
   ]
  },
  {
   "cell_type": "code",
   "execution_count": 1,
   "metadata": {},
   "outputs": [
    {
     "name": "stdout",
     "output_type": "stream",
     "text": [
      "请输入带有符号的温度值：32C\n",
      "转换后的温度是89.60F\n"
     ]
    }
   ],
   "source": [
    "#温度转换程序\n",
    "TempStr = input(\"请输入带有符号的温度值：\")\n",
    "if TempStr[-1] in ['F','f']:\n",
    "    C = (eval(TempStr[0:-1]) -32) / 1.8\n",
    "    print(\"转换后的温度是{:.2f}C\".format(C))\n",
    "elif TempStr[-1] in ['C','c']:\n",
    "    F = 1.8 * eval(TempStr[0:-1]) + 32\n",
    "    print(\"转换后的温度是{:.2f}F\".format(F))\n",
    "else:\n",
    "    print(\"输入的格式错误\")"
   ]
  },
  {
   "cell_type": "markdown",
   "metadata": {},
   "source": [
    "## Python程序语法元素分析\n",
    "包括格式框架、注释、变量、表达式、分支语句、循环语句、函数等于法院诉\n",
    "### 程序的格式框架\n",
    "Python语言采用严格的“缩进”来表明程序的格式框架。缩进指每一行代码开始前的空白区域，用来表示代码之间的包含和层次关系。  \n",
    "- 用以在Python中标明代码的层次关系  \n",
    "- 缩进是Python语言中表明程序框架的唯一手段  \n"
   ]
  },
  {
   "cell_type": "markdown",
   "metadata": {},
   "source": [
    "### 注释\n",
    "注释：程序员在代码中加入的说明信息，不被计算机执行\n",
    "注释的两种方法：\n",
    "- 单行注释以#开头  \n",
    "> #Here are the comments \n",
    "- 多行注释以  ’’’开头和结尾  \n",
    "> ’’’  \n",
    ">  This is a multiline comment  \n",
    ">  used in Python    \n",
    "> ’’’  \n"
   ]
  },
  {
   "cell_type": "markdown",
   "metadata": {},
   "source": [
    "### 命名与保留字\n",
    "- 常量：程序中值不发生改变的元素  \n",
    "- 变量：程序中值发生改变或者可以发生改变的元素  \n",
    "\n",
    "Python语言允许采用大写字母、小写字母、数字、下划线(_)和汉字等字符及其组合给变量命名，但名字的首字符不能是数字，中间不能出现空格，长度没有限制\n",
    "注意：标识符对大小写敏感，python和Python是两个不同的名字   \n",
    "保留字，也称为关键字，指被编程语言内部定义并保留使用的标识符。\n",
    "程序员编写程序不能定义与保留字相同的标识符。\n",
    "每种程序设计语言都有一套保留字，保留字一般用来构成程序整体框架、表达关键值和具有结构性的复杂语义等。\n",
    "掌握一门编程语言首先要熟记其所对应的保留字。\n"
   ]
  },
  {
   "cell_type": "markdown",
   "metadata": {},
   "source": [
    "### 字符串\n",
    "- Python语言中，字符串是用两个双引号“ ”或者单引号‘ ’括起来的一个或多个字符。  \n",
    "- Python字符串的两种序号体系：正向和反向  \n"
   ]
  },
  {
   "cell_type": "markdown",
   "metadata": {},
   "source": [
    "### 赋值语句\n",
    "- Python语言中，= 表示“赋值”，即将等号右侧的值计算后将结果值赋给左侧变量，包含等号（=）的语句称为“赋值语句”  \n",
    "- 同步赋值语句：同时给多个变量赋值   \n",
    "<变量1>, …, <变量N> = <表达式1>, …, <表达式N>\n"
   ]
  },
  {
   "cell_type": "code",
   "execution_count": 2,
   "metadata": {},
   "outputs": [
    {
     "name": "stdout",
     "output_type": "stream",
     "text": [
      "x=10,y=20\n",
      "x=20,y=10\n"
     ]
    }
   ],
   "source": [
    "#例子：将两个变量的值交换，思考C语言怎么做\n",
    "x,y = 10,20\n",
    "print(\"x={},y={}\".format(x,y))\n",
    "x,y = y,x\n",
    "print(\"x={},y={}\".format(x,y))"
   ]
  },
  {
   "cell_type": "markdown",
   "metadata": {},
   "source": [
    "### input()函数\n",
    "获得用户输入之前，input()函数可以包含一些提示性文字   \n",
    "                <变量> = input(<提示性文字>)\n"
   ]
  },
  {
   "cell_type": "markdown",
   "metadata": {},
   "source": [
    "### 分支语句\n",
    "分支语句是控制程序运行的一类重要语句，它的作用是根据判断条件选择程序执行路径，使用方式如下：  \n",
    "> if <条件1>:  \n",
    ">&nbsp;&nbsp;<语句块1>  \n",
    "> elif <条件2>:   \n",
    ">&nbsp;&nbsp;<语句块2>  \n",
    "> ...   \n",
    "> else:   \n",
    ">&nbsp;&nbsp;<语句块N>  \n"
   ]
  },
  {
   "cell_type": "markdown",
   "metadata": {},
   "source": [
    "### eval（）函数\n",
    "eval(<字符串>)函数是Python语言中一个十分重要的函数，它能够以Python表达式的方式解析并执行字符串，将返回结果输出\n",
    "例如："
   ]
  },
  {
   "cell_type": "code",
   "execution_count": 4,
   "metadata": {},
   "outputs": [
    {
     "data": {
      "text/plain": [
       "42"
      ]
     },
     "execution_count": 4,
     "metadata": {},
     "output_type": "execute_result"
    }
   ],
   "source": [
    "#eval函数实例\n",
    "x = 5 \n",
    "eval(\"x ** 2 + 2 * x +7\")"
   ]
  },
  {
   "cell_type": "markdown",
   "metadata": {},
   "source": [
    "### 输出函数\n",
    "- print()函数用来输出字符信息，或以字符形式输出变量。  \n",
    "- print()函数可以输出各种类型变量的值。  \n",
    "- print()函数通过%来选择要输出的变量。  \n",
    "实例：用户输入两个数，计算平均数"
   ]
  },
  {
   "cell_type": "code",
   "execution_count": 8,
   "metadata": {},
   "outputs": [
    {
     "name": "stdout",
     "output_type": "stream",
     "text": [
      "12.0和23.0的平均数是17.5\n"
     ]
    }
   ],
   "source": [
    "num1 = input(\"请输入第一个数：\")\n",
    "num2 = input(\"请输入第二个数：\")\n",
    "avg = (float(num1) + float(num2)) / 2\n",
    "print(\"%.1f和%.1f的平均数是%.1f\" %(float(num1),float(num2),avg))"
   ]
  },
  {
   "cell_type": "markdown",
   "metadata": {},
   "source": [
    "### 循环语句\n",
    "循环语句：控制程序运行，根据判断条件或计数条件确定一段程序的运行次数  \n",
    "遍历循环，基本过程如下  \n",
    "for i in range (<计数值>):  \n",
    "&nbsp;&nbsp;&nbsp;&nbsp;<表达式1>  \n",
    "例如，使某一段程序连续运行10次  \n",
    "for i in range (10):  \n",
    "&nbsp;&nbsp;&nbsp;&nbsp;<源代码>  \n",
    "其中，变量i用于计数  \n",
    "\n"
   ]
  },
  {
   "cell_type": "markdown",
   "metadata": {},
   "source": [
    "### 函数\n",
    "内置函数和自定义函数"
   ]
  },
  {
   "cell_type": "markdown",
   "metadata": {},
   "source": [
    "## turtle库和蟒蛇绘制程序\n",
    "![](img1.jpg)\n",
    "### 实例：Python蟒蛇绘制"
   ]
  },
  {
   "cell_type": "code",
   "execution_count": 1,
   "metadata": {
    "collapsed": true
   },
   "outputs": [],
   "source": [
    "#引入turtle库\n",
    "import turtle\n",
    "\n",
    "turtle.setup(650,350,200,200)\n",
    "turtle.penup()\n",
    "turtle.fd(-250)\n",
    "turtle.pendown()\n",
    "turtle.pensize(25)\n",
    "turtle.pencolor(\"purple\")\n",
    "turtle.seth(-40)\n",
    "for i in range(4):\n",
    "    turtle.circle(40,80)\n",
    "    turtle.circle(-40,80)\n",
    "turtle.circle(40,80/2)\n",
    "turtle.fd(40)\n",
    "turtle.circle(16,180)\n",
    "turtle.fd(40 * 2/3)\n"
   ]
  },
  {
   "cell_type": "markdown",
   "metadata": {},
   "source": [
    "### turtle库语法元素分析\n",
    "- import是一个关键字，用来引入一些外部库，这里的含义是引入一个名字叫turtle的函数库  \n",
    "- Turtle中的turtle.setup()函数用于启动一个图形窗口，它有四个参数  \n",
    "> turtle.setup(width, height, startx, starty)  \n",
    "> 分别是：启动窗口的宽度和高度  \n",
    "> 表示窗口启动时，窗口左上角在屏幕中的坐标位置。     \n",
    "\n",
    "- 我们所使用的显示屏幕也是一个坐标系，该坐标系以左上角为原点，向左和向下分别是x轴和y轴。  \n",
    "- Turtle中的turtle.pensize()函数表示小乌龟运动轨迹的宽度。  \n",
    "- Turtle中的turtle.pencolor()函数表示小乌龟运动轨迹的颜色。  \n",
    "- Turtle中的turtle.seth(angle)函数表示小乌龟启动时运动的方向。  \n",
    "- turtle.circle()函数让小乌龟沿着一个圆形爬行  \n",
    "> 参数rad描述圆形轨迹半径的位置  \n",
    "> 这个半径在小乌龟运行的左侧rad远位置处，如果rad为负值，则半径在小乌龟运行的右侧  \n",
    "> 参数angle表示小乌龟沿着圆形爬行的弧度值  \n",
    "- turtle.fd()函数也可以用turtle.forward()表示乌龟向前直线爬行移动  \n"
   ]
  },
  {
   "cell_type": "markdown",
   "metadata": {},
   "source": [
    "## 程序练习题\n"
   ]
  },
  {
   "cell_type": "code",
   "execution_count": null,
   "metadata": {
    "collapsed": true
   },
   "outputs": [],
   "source": []
  }
 ],
 "metadata": {
  "hide_input": false,
  "kernelspec": {
   "display_name": "Python 3",
   "language": "python",
   "name": "python3"
  },
  "language_info": {
   "codemirror_mode": {
    "name": "ipython",
    "version": 3
   },
   "file_extension": ".py",
   "mimetype": "text/x-python",
   "name": "python",
   "nbconvert_exporter": "python",
   "pygments_lexer": "ipython3",
   "version": "3.6.1"
  },
  "toc": {
   "colors": {
    "hover_highlight": "#DAA520",
    "navigate_num": "#000000",
    "navigate_text": "#333333",
    "running_highlight": "#FF0000",
    "selected_highlight": "#FFD700",
    "sidebar_border": "#EEEEEE",
    "wrapper_background": "#FFFFFF"
   },
   "moveMenuLeft": true,
   "nav_menu": {
    "height": "336px",
    "width": "252px"
   },
   "navigate_menu": true,
   "number_sections": false,
   "sideBar": true,
   "threshold": 4,
   "toc_cell": false,
   "toc_section_display": "block",
   "toc_window_display": true,
   "widenNotebook": false
  }
 },
 "nbformat": 4,
 "nbformat_minor": 2
}
